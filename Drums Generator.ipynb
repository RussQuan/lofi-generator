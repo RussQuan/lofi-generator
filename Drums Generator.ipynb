{
 "cells": [
  {
   "cell_type": "code",
   "execution_count": 2,
   "id": "6cb90b10",
   "metadata": {},
   "outputs": [],
   "source": [
    "from datetime import datetime\n",
    "import itertools\n",
    "import json\n",
    "import os\n",
    "import shutil\n",
    "\n",
    "from keras import backend as K\n",
    "from keras.layers.core import Dense, Activation, Dropout\n",
    "from keras.layers.recurrent import LSTM\n",
    "from keras.models import Sequential\n",
    "from tensorflow.keras.optimizers import RMSprop\n",
    "import numpy as np\n",
    "\n",
    "from data import *\n",
    "from midi_util import array_to_midi, print_array"
   ]
  },
  {
   "cell_type": "code",
   "execution_count": 3,
   "id": "d8b06e93",
   "metadata": {},
   "outputs": [],
   "source": [
    "# All the pitches represented in the MIDI data arrays.\n",
    "# TODO: Read pitches from pitches.txt file in corresponding midi array\n",
    "# directory.\n",
    "PITCHES = [36, 37, 38, 40, 41, 42, 44, 45, 46, 47, 49, 50, 58, 59, 60, 61, 62, 63, 64, 66]\n",
    "# The subset of pitches we'll actually use.\n",
    "IN_PITCHES = [36, 38, 42, 58, 59, 61]#[36, 38, 41, 42, 47, 58, 59, 61]\n",
    "# The pitches we want to generate (potentially for different drum kit)\n",
    "OUT_PITCHES = IN_PITCHES#[54, 56, 58, 60, 61, 62, 63, 64]\n",
    "# The minimum number of hits to keep a drum loop after the types of\n",
    "# hits have been filtered by IN_PITCHES.\n",
    "MIN_HITS = 8"
   ]
  },
  {
   "cell_type": "code",
   "execution_count": 4,
   "id": "1509c9a7",
   "metadata": {},
   "outputs": [],
   "source": [
    "########################################################################\n",
    "# Network architecture parameters.\n",
    "########################################################################\n",
    "NUM_HIDDEN_UNITS = 128\n",
    "# The length of the phrase from which the predict the next symbol.\n",
    "PHRASE_LEN = 64\n",
    "# Dimensionality of the symbol space.\n",
    "SYMBOL_DIM = 2 ** len(IN_PITCHES)\n",
    "NUM_ITERATIONS = 2\n",
    "BATCH_SIZE = 64\n",
    "\n",
    "VALIDATION_PERCENT = 0.1\n",
    "\n",
    "BASE_DIR = './'\n",
    "#BASE_DIR = '/home/ubuntu/neural-beats'\n",
    "\n",
    "#MIDI_IN_DIR = os.path.join(BASE_DIR, 'midi_arrays/mega/')\n",
    "#MIDI_IN_DIR = os.path.join(BASE_DIR, 'midi_arrays/mega/Electronic Live 9 SD/Jungle')\n",
    "MIDI_IN_DIR = os.path.join(BASE_DIR, 'e-gmd-v1.0.0/drummer8/aaa')\n",
    "#MIDI_IN_DIR = os.path.join(BASE_DIR, 'midi_arrays/mega/Rock Essentials 2 Live 9 SD/Preview Files/Fills/4-4 Fills')\n",
    "\n",
    "MODEL_OUT_DIR = os.path.join(BASE_DIR, 'models')\n",
    "MODEL_NAME = 'drum_generator'\n",
    "TRIAL_DIR = os.path.join(MODEL_OUT_DIR, MODEL_NAME)\n",
    "\n",
    "MIDI_OUT_DIR = os.path.join(TRIAL_DIR, 'gen-midi')\n",
    "\n",
    "LOAD_WEIGHTS = True"
   ]
  },
  {
   "cell_type": "code",
   "execution_count": null,
   "id": "98d7f394",
   "metadata": {},
   "outputs": [],
   "source": []
  },
  {
   "cell_type": "code",
   "execution_count": null,
   "id": "9180dc56",
   "metadata": {},
   "outputs": [],
   "source": []
  },
  {
   "cell_type": "code",
   "execution_count": null,
   "id": "cc2049e4",
   "metadata": {},
   "outputs": [],
   "source": []
  },
  {
   "cell_type": "code",
   "execution_count": null,
   "id": "26f08f7d",
   "metadata": {},
   "outputs": [],
   "source": []
  },
  {
   "cell_type": "code",
   "execution_count": null,
   "id": "186e8987",
   "metadata": {},
   "outputs": [],
   "source": []
  },
  {
   "cell_type": "code",
   "execution_count": null,
   "id": "8a313238",
   "metadata": {},
   "outputs": [],
   "source": []
  },
  {
   "cell_type": "code",
   "execution_count": null,
   "id": "bfddf926",
   "metadata": {},
   "outputs": [],
   "source": []
  }
 ],
 "metadata": {
  "kernelspec": {
   "display_name": "Python 3",
   "language": "python",
   "name": "python3"
  },
  "language_info": {
   "codemirror_mode": {
    "name": "ipython",
    "version": 3
   },
   "file_extension": ".py",
   "mimetype": "text/x-python",
   "name": "python",
   "nbconvert_exporter": "python",
   "pygments_lexer": "ipython3",
   "version": "3.8.8"
  }
 },
 "nbformat": 4,
 "nbformat_minor": 5
}
